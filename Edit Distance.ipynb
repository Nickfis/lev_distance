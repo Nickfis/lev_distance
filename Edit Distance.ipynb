{
 "cells": [
  {
   "cell_type": "markdown",
   "metadata": {},
   "source": [
    "# Deterministic Models and Optimization - Assignment 2"
   ]
  },
  {
   "cell_type": "markdown",
   "metadata": {},
   "source": [
    "## Edit Distance\n",
    "\n",
    "### The problem\n",
    "Given strings X and Y, the proposed algorithm calculatres the amount of minimum modifications needed to turn string X into string Y. Furthermore it finds the best option between the possible edit modifications and log which edits were performed.  The amount of necessary modifications is called the 'edit distance' between the two strings. Since the algorithm must provide the optimal solution, the alternative solutions must be compared to choose the minimum.\n",
    "This algorithm has a wide variety applications, from spellchecking to comparing DNA gene sequences.\n",
    "\n",
    "\n",
    "This algorithm has two main parts; generating the costs matrix by solving a number of smaller subproblems and tracing back the solution to find the minimum. \n",
    "Therefore we start by looking at X[0] and Y[0] and consider the possible routes to take if they do not match:\n",
    "\n",
    "##### I. Substitution\n",
    "In this particular case, we substitute the first character of the string Y. After doing this both strings start with the same character, so we will need to compute the edit distance for X[1,…,n] and Y[1,…,m] characters. The final result will therefore be the cost of the substitution of X[0] plus the edit distance of the remaining substrings.\n",
    "\n",
    "##### II. Insertion\n",
    "Alternatively, we could also match the first index of both strings by inserting the first character of Y to the beginning of X. The cost for this solution would be the cost of the insertion plus the edit distance of the original string X and Y[1,…,m].\n",
    "\n",
    "##### III. Deletion\n",
    "Analogous to the insertion, when deleting, we only get rid of the first character in X (X[0]). In this case after the modification we have to compute the remaining edit distance between X[1,…,m] and the original string Y and add the cost of the deletion for the optimal solution.\n",
    "\n",
    "These options for the first index are exactly the same problems that we were originally trying to solve; the edit distance between two strings. Therefore we are solving the original problem by solving n+m smaller subproblems. \n",
    "Furthermore as seen in the description of each option, after solving one of the subproblems the remaining number of problems will continually decrease until it reaches the end of both strings.\n",
    "\n",
    "As soon as we reach the base case we can stop. The base case here is reached as soon as both input strings are empty, because then the edit distance between them is 0 and no computation is needed. If one of them is not empty, we will have to solely either remove the number of characters in string X or insert the characters of Y into X.\n",
    "In any case the edit distance will be equal to the number of characters in the non-empty string.\n",
    "\n",
    "$$\\textrm{if X[1]=Y[1] then D[1,1]=D[0,0]}\\\\\n",
    "\\textrm{otherwise}\\\\\n",
    "D(1,1) = min \\begin{cases} D(0,0) + substitutionCost\\\\\n",
    "D(1,0) +deletionCost\\\\\n",
    "D(0,1) +insertionCost \\end{cases}$$\n",
    "\n",
    "Using dynamic programming we can drastically reduce the time to compute the optimal solution, since by storing the already computed values in a matrix, with index i for X and index j for Y, we will not recurrently solve every subproblem again.\n",
    "By solving every one of the subproblems and choosing the option with the minimum cost we will eventually choose the minimum solution for every step and reach the optimal solution for the overall problem.\n",
    "\n",
    "### The matrix\n",
    "We will compute the costs in a matrix. For the first row of the matrix the costs are the number of deleted characters that would be necessary to convert one string to an empty string. For the first column, this is the number of insertions to convert the string Y to an empty string.\n",
    "To fill up the matrix we loop through the rows and columns and perform the following computation: If the values of the row and column ARE the same, we select the value in the previous diagonal because since the characters are the same there is nothing to do, which carries no additional cost. \n",
    "If the values are NOT the same, then we assign the lowest value from the previous row, column or diagonal, and we add the cost we assign to  deletions, insertions or substitution, in that order. We continue to do this until the matrix is full.\n",
    "\n",
    "The value in the position [n,m] of the matrix now holds the value for the total (minimum) cost of the transformation of string X into Y. \n",
    "In order to register which modifications were done we can now trace back through the matrix by starting at [n,m] and moving to the minimum cost cell of the three neighboring cells and continue to index [0,0].\n",
    "\n",
    "### Modifed algorithm for weights\n",
    "To account for the possible differences in the costs of each modification, we can just replace the cost of each edit inside of the algorithm. The real life application for why differing costs for each modification might be needed is eemplified by automatic spelling correction. \n",
    "While typing it may seem more likely that a person hits inadvertently a wrong key on the keyboard compared to hitting a key twice instead of once. In that case we could accommodate this by assigning a lower cost to the substitution. \n",
    "Likewise by increasing the cost for an unlikely modification we can therefore control for the probabilities of a successful correction.\n",
    "\n",
    "### Proof of correctness\n",
    "For proving that this algorithm is correct we check the trivial base cases.\n",
    "As described before the base case can be observed when at least one string is empty. In this case the solution is trivial;\n",
    "I) when both strings are empty, the edit distance is 0, since they are the same\n",
    "ii) when only one string is empty, the edit distance equals the number of characters in the second string (which equals the needed number of insertions or deletions).\n",
    "\n",
    "By solving the base cases of the problem we fill the first column and first row of our matrix (called D for “Distance”) correctly. The values in the first row will now equal the index of string Y, while the first column in the matrix will match the index of string X. \n",
    "Starting now with the value in D(1,1) we will check the three neighboring values (D(0,0), D(1,0), D(0,1)) already filled out in the matrix and compute D(1,1) according to:\n",
    "$$\n",
    "\\textrm{if X[1]=Y[1] then D[1,1]=D[0,0]}\\\\\n",
    "\\textrm{otherwise}\\\\\n",
    "D(1,1) = min \\begin{cases} D(0,0) + substitutionCost\\\\\n",
    "D(1,0) +deletionCost\\\\\n",
    "D(0,1) +insertionCost \\end{cases}$$\n",
    "\n",
    "Therefore this will give us the minimum possible value for D(1,1). Since this is the recurrence used for filling up all remaining values in the matrix until D(m,n) this algorithm computes the edit distance correctly.\n",
    "\n",
    "### Time Complexity\n",
    "The time complexity of this algorithm is defined by the computing cost for each subproblem.\n",
    "To compute all the values for the matrix we have to solve (m+1)*(n+1) subproblems. Each subproblem can be solved in constant time and therefore the algorithm runs in O(mn) time. "
   ]
  },
  {
   "cell_type": "code",
   "execution_count": 1,
   "metadata": {},
   "outputs": [
    {
     "name": "stdout",
     "output_type": "stream",
     "text": [
      "DNA \n",
      "\n",
      "The Edit Distance is 10 .\n",
      "\n",
      " X:[ ACTACTAGATTACTTACGGATCAGGTACTTTAGAGGCTTGCAACCA ]\n",
      " Y:[ __TACTAGCTTACTTACCCATCAGGT__TTTAGAG_ATGGCAACCA ]\n",
      " E:[ DD======S========SS=======DD=======DS=S======= ] \n",
      "\n",
      "The number of operations is 10 .\n",
      "\n",
      "10\n",
      "Proteins \n",
      "\n",
      "The Edit Distance is 37 .\n",
      "\n",
      " X:[ AASRPRSGVPAQSDSDPCQNLAATPIPSRPPSSQSCQKCRADARQGRWGP ]\n",
      " Y:[ __S____GAPGQRGEPGPQGHAGAPGPPGPPGS________D___G____ ]\n",
      " E:[ DD=DDDD=S=S=SSSSSS=SS=SS=S=SS==S=DDDDDDDD=DDD=DDDD ] \n",
      "\n",
      "The number of operations is 37 .\n",
      "\n",
      "37\n"
     ]
    }
   ],
   "source": [
    "# Set strings to compare here\n",
    "DNAX='ACTACTAGATTACTTACGGATCAGGTACTTTAGAGGCTTGCAACCA'\n",
    "DNAY='TACTAGCTTACTTACCCATCAGGTTTTAGAGATGGCAACCA'\n",
    "\n",
    "PRX='AASRPRSGVPAQSDSDPCQNLAATPIPSRPPSSQSCQKCRADARQGRWGP'\n",
    "PRY='SGAPGQRGEPGPQGHAGAPGPPGPPGSDG'\n",
    "\n",
    "import numpy as np\n",
    "#np.set_printoptions(threshold=np.nan)\n",
    "# This would allow us to see the full cost matrix instead of just a summary.\n",
    "\n",
    "def EditDistance(X, Y):\n",
    "    # Setting up all the working variables. Characters of X and Y in lists and their\n",
    "    #lenghts. In order to record the necessary modifications to X, we create an empty list.\n",
    "    X = list(X)\n",
    "    Y = list(Y)\n",
    "    lenX = len(X)\n",
    "    lenY = len(Y)\n",
    "    mods = []\n",
    "    # Generate the empty matrix initialized with 0's\n",
    "    D = np.zeros([lenX+1, lenY+1])\n",
    "    # costs of deleting all \n",
    "    for i in range(lenX):\n",
    "        D[i+1][0] = D[i][0] + 1\n",
    "    #costs of inserting all \n",
    "    for j in range(lenY):\n",
    "        D[0][j+1] = D[0][j] + 1\n",
    "    #costs of each sucessive step\n",
    "    for i in range(lenX):\n",
    "        for j in range(lenY):\n",
    "            # If the characters in the strings match, the cost doesn't increase. No edit.\n",
    "            if X[i] == Y[j]:\n",
    "                D[i+1][j+1] = D[i][j]\n",
    "            # If there is no match, we set the minimum cost for reaching that particular cell.\n",
    "            else:\n",
    "                D[i+1][j+1] = min(D[i+1][j] + 1, D[i][j+1] + 1, D[i][j] + 1)\n",
    "    # print (D,'\\n') # to suppress the matrix\n",
    "    print ('The Edit Distance is', int(D[lenX,lenY]),'.\\n')\n",
    "    c = int(D[lenX,lenY])\n",
    "\n",
    "    # In order to know which edits are done in each step we need to trace back the cost matrix.\n",
    "    while lenX > 0 or lenY > 0:\n",
    "        # We search for the lowest cost in the previous 3 cells.\n",
    "        cost_S = D[lenX-1][lenY-1]\n",
    "        cost_D = D[lenX - 1][lenY]\n",
    "        cost_I = D[lenX][lenY - 1]\n",
    "        # If the cost of a Substitution is not greater than the rest and it's equal to the current matrix cost...\n",
    "        if (cost_S == min(cost_S,cost_D,cost_I) and cost_S == D[lenX][lenY]):\n",
    "            # ... nothing to modifiy. Move to the previous diagonal.\n",
    "            mods.append('=')\n",
    "            lenX -= 1\n",
    "            lenY -= 1\n",
    "            # If the cost is decreasing, it's a substitution. Move to the previous diagonal.\n",
    "        elif (cost_S == min(cost_S,cost_D,cost_I) and cost_S != D[lenX][lenY]):\n",
    "            mods.append('S')\n",
    "            lenX -= 1\n",
    "            lenY -= 1\n",
    "            #If the cost of a Deletion is the smallest, perform a deletion...\n",
    "        elif (cost_D == min(cost_S,cost_D,cost_I)):\n",
    "            mods.append('D')\n",
    "            Y.insert(lenY, '_') \n",
    "            # ... and move to the previous row.\n",
    "            lenX -= 1\n",
    "            #If the cost of a Deletion is the smallest, perform an insertion...\n",
    "        elif (cost_I == min(cost_S,cost_D,cost_I)):\n",
    "            mods.append('I')\n",
    "            X.insert(lenX, '_') \n",
    "            # ... and move to the previous column.\n",
    "            lenY -= 1\n",
    "        else:\n",
    "            print ('error')\n",
    "    # Print the appended string in inverse (original) order.\n",
    "    print (' X:[',''.join(X),']\\n', 'Y:[',''.join(Y),']\\n', 'E:[',''.join(mods[::-1]),']','\\n')\n",
    "    print('The number of operations is', sum(1 for x in mods if (x != '=')),'.\\n')\n",
    "    # return ''\n",
    "    return c\n",
    "\n",
    "print ('DNA \\n')\n",
    "print (EditDistance(DNAX,DNAY))\n",
    "print ('Proteins \\n')\n",
    "print (EditDistance(PRX,PRY))\n"
   ]
  },
  {
   "cell_type": "markdown",
   "metadata": {},
   "source": [
    "**2**. Modify the previous algorithm with a penalty cost function: operations D and I have unit cost 2, whereas operation S has unit cost 1."
   ]
  },
  {
   "cell_type": "markdown",
   "metadata": {},
   "source": [
    "### Levenshtein Distance\n",
    "The case of Edit Distance having different costs for each modification is called the Levenshtein Distance. In the algorithm, we substitute the constantly increasing cost by a variable which will contain the specific cost for each modification."
   ]
  },
  {
   "cell_type": "code",
   "execution_count": 2,
   "metadata": {},
   "outputs": [
    {
     "name": "stdout",
     "output_type": "stream",
     "text": [
      "DNA \n",
      "\n",
      "The Levenshtein Distance is 15 .\n",
      "\n",
      " X:[ ACTACTAGATTACTTACGGATCAGGTACTTTAGAGGCTTGCAACCA ]\n",
      " Y:[ __TACTAGCTTACTTACCCATCAGGT__TTTAGAG_ATGGCAACCA ]\n",
      " E:[ DD======S========SS=======DD=======DS=S======= ] \n",
      "\n",
      "The number of operations is  10 .\n",
      "\n",
      "15\n",
      "Proteins \n",
      "\n",
      "The Levenshtein Distance is 58 .\n",
      "\n",
      " X:[ AASRPRSGVPAQSDSDPCQNLAATPIPSRPPSSQSCQKCRADARQGRWGP ]\n",
      " Y:[ __S____GAPGQRGEPGPQGHAGAPGPPGPPGS________D___G____ ]\n",
      " E:[ DD=DDDD=S=S=SSSSSS=SS=SS=S=SS==S=DDDDDDDD=DDD=DDDD ] \n",
      "\n",
      "The number of operations is  37 .\n",
      "\n",
      "58\n"
     ]
    }
   ],
   "source": [
    "# Set strings to compare here\n",
    "DNAX='ACTACTAGATTACTTACGGATCAGGTACTTTAGAGGCTTGCAACCA'\n",
    "DNAY='TACTAGCTTACTTACCCATCAGGTTTTAGAGATGGCAACCA'\n",
    "\n",
    "PRX='AASRPRSGVPAQSDSDPCQNLAATPIPSRPPSSQSCQKCRADARQGRWGP'\n",
    "PRY='SGAPGQRGEPGPQGHAGAPGPPGPPGSDG'\n",
    "\n",
    "import numpy as np\n",
    "#np.set_printoptions(threshold=np.nan) #would print the full cost matrix.\n",
    "\n",
    "def EditDistanceLev(X, Y, DEL=2,INS=2, SBS=1):\n",
    "    # Setting up all the working variables. Characters of X and Y in lists and their lenghts. \n",
    "    # In order to record the necessary modifications to B, we create an empty list.\n",
    "    X = list(X)\n",
    "    Y = list(Y)\n",
    "    lenX = len(X)\n",
    "    lenY = len(Y)\n",
    "    mods = []\n",
    "    # Generate the empty matrix initialized with 0's\n",
    "    D = np.zeros([lenX+1, lenY+1])\n",
    "    # costs of deleting all Y\n",
    "    for i in range(lenX):\n",
    "        D[i+1][0] = D[i][0] + DEL\n",
    "    # costs of inserting all X\n",
    "    for j in range(lenY):\n",
    "        D[0][j+1] = D[0][j] + INS\n",
    "    # costs of each sucessive step\n",
    "    for i in range(lenX):\n",
    "        for j in range(lenY):\n",
    "            # If the characters in the strings match, the cost doesn't increase. No edit.\n",
    "            if X[i] == Y[j]:\n",
    "                D[i+1][j+1] = D[i][j]\n",
    "            # If there is no match, we set the minimum cost for reaching that particular cell.\n",
    "            else:\n",
    "                D[i+1][j+1] = min(D[i+1][j] + DEL, D[i][j+1] + INS, D[i][j] + SBS)\n",
    "    # print (D,'\\n') # would print part of the matrix\n",
    "    print ('The Levenshtein Distance is', int(D[lenX,lenY]),'.\\n')\n",
    "    c = int(D[lenX,lenY])\n",
    "\n",
    "    # In order to know which edits are done in each step we need to trace back the cost matrix.\n",
    "    while lenX > 0 or lenY > 0:\n",
    "        # We search for the lowest cost in the previous 3 cells.\n",
    "        cost_S = D[lenX-1][lenY-1]\n",
    "        cost_D = D[lenX - 1][lenY]\n",
    "        cost_I = D[lenX][lenY - 1]\n",
    "        if (cost_S+SBS == min(cost_S+SBS,cost_D+DEL,cost_I+INS) and cost_S == D[lenX][lenY]):\n",
    "            mods.append('=')\n",
    "            lenX -= 1\n",
    "            lenY -= 1\n",
    "        elif (cost_S+SBS == min(cost_S+SBS,cost_D+DEL,cost_I+INS) and cost_S != D[lenX][lenY]):\n",
    "            mods.append('S')\n",
    "            lenX -= 1\n",
    "            lenY -= 1\n",
    "        elif (cost_D+DEL == min(cost_S+SBS,cost_D+DEL,cost_I+INS)):\n",
    "            mods.append('D')\n",
    "            Y.insert(lenY, '_') \n",
    "            # ... and move to the previous row.\n",
    "            lenX -= 1\n",
    "        elif (cost_I+INS == min(cost_S+SBS,cost_D+DEL,cost_I+INS)):\n",
    "            mods.append('I')\n",
    "            X.insert(lenX, '_') \n",
    "            # ... and move to the previous column.\n",
    "            lenY -= 1\n",
    "        else:\n",
    "            print ('error')\n",
    "\n",
    "    # Print the appended strings in inverse (original) order.\n",
    "    print (' X:[',''.join(X),']\\n', 'Y:[',''.join(Y),']\\n', 'E:[',''.join(mods[::-1]),']','\\n')\n",
    "    print('The number of operations is ', sum(1 for x in mods if (x != '=')),'.\\n')\n",
    "    \n",
    "    return c\n",
    "\n",
    "print ('DNA \\n')\n",
    "print (EditDistanceLev(DNAX,DNAY))\n",
    "print ('Proteins \\n')\n",
    "print (EditDistanceLev(PRX,PRY))"
   ]
  },
  {
   "cell_type": "markdown",
   "metadata": {},
   "source": [
    "### Exercise 4"
   ]
  },
  {
   "cell_type": "code",
   "execution_count": 3,
   "metadata": {
    "collapsed": true
   },
   "outputs": [],
   "source": [
    "import random\n",
    "import string\n",
    "import numpy as np\n",
    "%matplotlib inline\n",
    "import matplotlib.pyplot as plt\n",
    "import matplotlib.mlab as mlab"
   ]
  },
  {
   "cell_type": "markdown",
   "metadata": {},
   "source": [
    "### Function to generate the random words of length 50"
   ]
  },
  {
   "cell_type": "markdown",
   "metadata": {},
   "source": [
    "We start by defining the function random_input which creates a matrix whose entries are computed by sampling letters from the alphabet {A,B,C,D} with a given probability assigned to each letter (by default all equal to ¼). We use random_input to build two matrices (X and Y) where the number of rows represents the number of words we want to compare (N = 100, 500, 1000) and the number of columns represents the number of letters in each word (L = 50). We create three vectors that collect the edit distance over every row of X and Y for the different numbers of word in the three samples. The histograms show the empirical distributions of the computed edit distances with sample mean and sample variance, together with a normal density of the same parameters."
   ]
  },
  {
   "cell_type": "code",
   "execution_count": 4,
   "metadata": {
    "collapsed": true
   },
   "outputs": [],
   "source": [
    "def random_input(rows,cols,prob=[1/4,1/4,1/4,1/4]):\n",
    "    letters = string.ascii_uppercase[0:4] # select alphabeth {A,B,C,D} \n",
    "                                        #from string.ascii_uppercase\n",
    "    x = np.empty((rows,cols), dtype='str') # create an empty matrix of type 'string'\n",
    "    for i in range(rows): # for every row\n",
    "        for j in range(cols): # for every column\n",
    "            x[i,j] = np.random.choice(list(letters), p=prob) \n",
    "            # assign randomly a letter from the alphabet {A,B,C,D} to x_ij \n",
    "            # where the probabilities are specified by prob (default is uniform)\n",
    "    return x"
   ]
  },
  {
   "cell_type": "markdown",
   "metadata": {},
   "source": [
    "### Create 3 vectors of *Edit Distances* for 100, 500 and 1000 words of length 50 with uniform distribution"
   ]
  },
  {
   "cell_type": "code",
   "execution_count": 5,
   "metadata": {
    "collapsed": true
   },
   "outputs": [],
   "source": [
    "%%capture\n",
    "# the above magic is used to suppress the output\n",
    "\n",
    "for N in [100, 500, 1000]: # number of random words\n",
    "    L = 50 # number of letters in each word\n",
    "    X = random_input(N,L) # matrix collecting the first N input words\n",
    "    Y = random_input(N,L) # matrix collecting the second N input words\n",
    "    if (N==100):\n",
    "        # vector to store the computed edit distances for N = 100\n",
    "        store_EditDistances_100 = np.zeros(N)\n",
    "        for i in range(N): # for each of the N words\n",
    "            # compute the edit distance between the i-th word in X and Y\n",
    "            store_EditDistances_100[i] = EditDistance(X[i,:],Y[i,:]) \n",
    "    elif (N==500):\n",
    "        store_EditDistances_500 = np.zeros(N) \n",
    "        # vector to store the computed edit distances for N = 500\n",
    "        for i in range(N): # for each of the N words\n",
    "            # compute the edit distance between the i-th word in X and Y\n",
    "            store_EditDistances_500[i] = EditDistance(X[i,:],Y[i,:]) \n",
    "    else:\n",
    "        # vector to store the computed edit distances for N = 1000\n",
    "        store_EditDistances_1000 = np.zeros(N)\n",
    "        for i in range(N): # for each of the N words\n",
    "            # compute the edit distance between the i-th word in X and Y\n",
    "            store_EditDistances_1000[i] = EditDistance(X[i,:],Y[i,:]) "
   ]
  },
  {
   "cell_type": "markdown",
   "metadata": {},
   "source": [
    "### Histograms for N = 100; 500 and 1000"
   ]
  },
  {
   "cell_type": "markdown",
   "metadata": {},
   "source": [
    "<img src=\"edit_dist_hist.png\">"
   ]
  },
  {
   "cell_type": "markdown",
   "metadata": {},
   "source": [
    "### Non uniform probabilities\n",
    "The function random_input accomodates for diffent probabilities as long as they sum up to 1. We can sample $(p_1, p_2, p_3, p_4)$ using the following algorithm and then plug them as input of the created function random_input."
   ]
  },
  {
   "cell_type": "code",
   "execution_count": 7,
   "metadata": {},
   "outputs": [
    {
     "name": "stdout",
     "output_type": "stream",
     "text": [
      "[0.9809808076958625, 0.010099936212038045, 0.007590575156229062, 0.0013286809358704034]\n"
     ]
    },
    {
     "data": {
      "text/plain": [
       "1.0"
      ]
     },
     "execution_count": 7,
     "metadata": {},
     "output_type": "execute_result"
    }
   ],
   "source": [
    "p1 = random.uniform(0,1)\n",
    "p2 = random.uniform(0,1-p1)\n",
    "p3 = random.uniform(0,1-p1-p2)\n",
    "p4 = 1-p1-p2-p3 \n",
    "prob = [p1,p2,p3,p4] # the input of the function random_input\n",
    "print(prob)\n",
    "sum(prob)"
   ]
  },
  {
   "cell_type": "code",
   "execution_count": 8,
   "metadata": {},
   "outputs": [
    {
     "name": "stdout",
     "output_type": "stream",
     "text": [
      "[['A' 'A' 'A' 'A' 'A' 'A' 'A' 'A' 'A' 'A']]\n",
      "[['A' 'A' 'A' 'A' 'A' 'D' 'D' 'D' 'A' 'D']]\n",
      "[['A' 'A' 'A' 'A' 'A' 'A' 'A' 'A' 'A' 'A']]\n"
     ]
    }
   ],
   "source": [
    "# test:\n",
    "print(random_input(1,10,[1,0,0,0]))\n",
    "print(random_input(1,10,[0.5,0,0,0.5]))\n",
    "print(random_input(1,10,prob))"
   ]
  },
  {
   "cell_type": "markdown",
   "metadata": {},
   "source": [
    "### References\n",
    "Schulz, Klaus U.; Mihov, Stoyan (2002). \"Fast string correction with Levenshtein automata\". International Journal of Document Analysis and Recognition. 5 (1): 67–85\n",
    "\n",
    "Navarro, Gonzalo (1 March 2001). \"A guided tour to approximate string matching\" (PDF). ACM Computing\n",
    "Surveys. 33 (1): 31–88. doi:10.1145/375360.375365. Retrieved 19 March2015.\n",
    "\n",
    "R Wagner; M. Fischer (1974). \"The string-to-string correction problem\". J. ACM. 21: 168–178\n",
    "\n",
    "\"Algorithms for approximate string matching\" (PDF). Information and Control. 64 (1–3): 100–118. 1985"
   ]
  }
 ],
 "metadata": {
  "kernelspec": {
   "display_name": "Python 3",
   "language": "python",
   "name": "python3"
  },
  "language_info": {
   "codemirror_mode": {
    "name": "ipython",
    "version": 3
   },
   "file_extension": ".py",
   "mimetype": "text/x-python",
   "name": "python",
   "nbconvert_exporter": "python",
   "pygments_lexer": "ipython3",
   "version": "3.6.4"
  }
 },
 "nbformat": 4,
 "nbformat_minor": 2
}
